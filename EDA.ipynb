{
 "cells": [
  {
   "cell_type": "code",
   "execution_count": 71,
   "id": "b990510e",
   "metadata": {},
   "outputs": [],
   "source": [
    "from random import random\n",
    "import numpy as np\n",
    "import numpy.typing as npt"
   ]
  },
  {
   "cell_type": "code",
   "execution_count": 112,
   "id": "d080762b",
   "metadata": {},
   "outputs": [],
   "source": [
    "\n",
    "def random_solution(length: int) -> npt.ArrayLike:\n",
    "    return np.random.randint(0, 2, size=length, dtype=np.uint8)\n",
    "\n",
    "def random_population(popsize:int, length: int) -> list[npt.ArrayLike]:\n",
    "    return [random_solution(length) for _ in range(popsize)]\n",
    "\n",
    "def fitness(solution: npt.ArrayLike):\n",
    "    return sum(solution)"
   ]
  },
  {
   "cell_type": "code",
   "execution_count": 182,
   "id": "7d1a368e",
   "metadata": {},
   "outputs": [],
   "source": [
    "def get_probabilistic_model(elite_pop: list[npt.ArrayLike]) -> npt.ArrayLike:\n",
    "    \n",
    "    model = np.zeros(len(elite_pop[0]))    \n",
    "    \n",
    "    for genotype in elite_pop:\n",
    "        model += genotype\n",
    "        \n",
    "    model /= len(elite_pop)    \n",
    "    return model\n",
    "\n",
    "def sample_model(model: npt.ArrayLike) -> npt.ArrayLike:\n",
    "    probs = np.random.random(size=len(model))\n",
    "    return (np.uint8(probs <= model))\n",
    "    "
   ]
  },
  {
   "cell_type": "code",
   "execution_count": 169,
   "id": "7b447fc8",
   "metadata": {},
   "outputs": [],
   "source": [
    "def EDA(\n",
    "    popsize: int,\n",
    "    elitesize: int,\n",
    "    onemax_size: int,\n",
    "    max_generations: int,\n",
    "    verbose: bool = False\n",
    ") -> None:\n",
    "    \n",
    "    population = random_population(popsize, onemax_size)\n",
    "    population.sort(key=lambda x : fitness(x), reverse=True)\n",
    "    generation = 0\n",
    "    \n",
    "    best_solution = population[0] \n",
    "    best_fitness = fitness(best_solution)\n",
    "\n",
    "    while (generation < max_generations) and (best_fitness < onemax_size):\n",
    "        \n",
    "        generation += 1\n",
    "        \n",
    "        pb_model = get_probabilistic_model(population[:elitesize])\n",
    "        population = []\n",
    "        \n",
    "        while len(population) < popsize:\n",
    "            population.append(\n",
    "                sample_model(pb_model)\n",
    "            )\n",
    "            \n",
    "        population.sort(key=lambda x : fitness(x), reverse=True)\n",
    "        \n",
    "        best_solution = population[0] \n",
    "        best_fitness = fitness(best_solution)\n",
    "        \n",
    "        if verbose:\n",
    "            print(f\"Current Generation: {generation}\")\n",
    "            print(f\"Current probabilistic model: {pb_model}\")\n",
    "            print(\"Population:\")\n",
    "            for indiv in population:\n",
    "                print(f\"{indiv}/fit={fitness(indiv)}\")\n",
    "    \n",
    "    print(f\"Best Solution found: {best_solution}\\nFitness: {best_fitness}\")\n",
    "    \n",
    "    "
   ]
  },
  {
   "cell_type": "code",
   "execution_count": 194,
   "id": "a5902e47",
   "metadata": {},
   "outputs": [
    {
     "name": "stdout",
     "output_type": "stream",
     "text": [
      "Best Solution found: [1 1 1 1 1 1 1 1 1 1 1 1 1 1 1 1 1 1 1 1 1 1 1 1 1 1 1 1 1 1 1 1 1 1 1 1 1\n",
      " 1 1 1 1 1 1 1 1 1 1 1 1 1 1 1 1 1 1 1 1 1 1 0 1 1 1 1 1 1 1 1 1 1 1 1 1 1\n",
      " 1 1 1 1 1 1]\n",
      "Fitness: 79\n"
     ]
    }
   ],
   "source": [
    "EDA(\n",
    "    popsize=100,\n",
    "    elitesize=10,\n",
    "    onemax_size=80,\n",
    "    max_generations=1000,\n",
    "    verbose=False\n",
    ")"
   ]
  },
  {
   "cell_type": "code",
   "execution_count": null,
   "id": "35389ebd",
   "metadata": {},
   "outputs": [],
   "source": []
  },
  {
   "cell_type": "code",
   "execution_count": null,
   "id": "4ca3bae5",
   "metadata": {},
   "outputs": [],
   "source": []
  }
 ],
 "metadata": {
  "kernelspec": {
   "display_name": "Python 3 (ipykernel)",
   "language": "python",
   "name": "python3"
  },
  "language_info": {
   "codemirror_mode": {
    "name": "ipython",
    "version": 3
   },
   "file_extension": ".py",
   "mimetype": "text/x-python",
   "name": "python",
   "nbconvert_exporter": "python",
   "pygments_lexer": "ipython3",
   "version": "3.10.4"
  }
 },
 "nbformat": 4,
 "nbformat_minor": 5
}
