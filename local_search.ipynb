{
 "cells": [
  {
   "cell_type": "code",
   "execution_count": 1,
   "id": "227f9d7b",
   "metadata": {},
   "outputs": [],
   "source": [
    "import numpy as np\n",
    "from matplotlib import pyplot as plt\n",
    "from functools import partial\n",
    "from dataclasses import dataclass\n",
    "from random import randint, random, choice\n",
    "from typing import List\n",
    "from math import exp, sqrt"
   ]
  },
  {
   "cell_type": "code",
   "execution_count": 2,
   "id": "cd2237e8",
   "metadata": {},
   "outputs": [],
   "source": [
    "UPPER_VAL = 1000\n",
    "LOWER_VAL = -1000\n",
    "UPPER_PARAM = 100\n",
    "LOWER_PARAM = -100"
   ]
  },
  {
   "cell_type": "code",
   "execution_count": 3,
   "id": "c5c5651e",
   "metadata": {},
   "outputs": [
    {
     "name": "stdout",
     "output_type": "stream",
     "text": [
      "Target Function:\n",
      "f(x)= 58x^3 + -2x^2 + 94x + -92\n"
     ]
    },
    {
     "data": {
      "text/plain": [
       "[<matplotlib.lines.Line2D at 0x7fe7d065e380>]"
      ]
     },
     "execution_count": 3,
     "metadata": {},
     "output_type": "execute_result"
    },
    {
     "data": {
      "image/png": "[encoded data removed]",
      "text/plain": [
       "<Figure size 432x288 with 1 Axes>"
      ]
     },
     "metadata": {
      "needs_background": "light"
     },
     "output_type": "display_data"
    }
   ],
   "source": [
    "def f(x: float, a: int, b: int, c: int, d: int):\n",
    "    return (a * x**3) + (b * x**2) + (c * x) + d\n",
    "\n",
    "coefs = {\n",
    "    \"a\": randint(LOWER_PARAM, UPPER_PARAM),\n",
    "    \"b\": randint(LOWER_PARAM, UPPER_PARAM),\n",
    "    \"c\": randint(LOWER_PARAM, UPPER_PARAM),\n",
    "    \"d\": randint(LOWER_PARAM, UPPER_PARAM),\n",
    "    \n",
    "}\n",
    "\n",
    "def print_target_function(coefs: dict=coefs):\n",
    "    print(f'Target Function:\\nf(x)= {coefs[\"a\"]}x^3 + {coefs[\"b\"]}x^2 + {coefs[\"c\"]}x + {coefs[\"d\"]}')\n",
    "\n",
    "print_target_function()\n",
    "target = partial(f, **coefs)\n",
    "\n",
    "X = np.arange(-100, 100, 1)\n",
    "Y = target(X)\n",
    "plt.grid()\n",
    "plt.plot(X,Y)"
   ]
  },
  {
   "cell_type": "code",
   "execution_count": 4,
   "id": "d463775b",
   "metadata": {},
   "outputs": [],
   "source": [
    "def mse(target: callable, candidate: callable):\n",
    "    X = np.linspace(LOWER_VAL, UPPER_VAL, 100)\n",
    "    y_target = target(X)\n",
    "    y_candidate = candidate(X)\n",
    "    errors = (y_target - y_candidate)**2\n",
    "    return np.mean(errors)\n",
    "\n",
    "def rmse(target: callable, candidate: callable):\n",
    "    X = np.linspace(LOWER_VAL, UPPER_VAL, 100)\n",
    "    y_target = target(X)\n",
    "    y_candidate = candidate(X)\n",
    "    errors = np.sqrt((y_target - y_candidate)**2)\n",
    "    return np.mean(errors)\n",
    "\n",
    "def fitness(target: callable, candidate: callable):\n",
    "    return -rmse(target=target, candidate=candidate)"
   ]
  },
  {
   "cell_type": "code",
   "execution_count": 27,
   "id": "77694498",
   "metadata": {},
   "outputs": [],
   "source": [
    "@dataclass \n",
    "class Solution:\n",
    "    a: int\n",
    "    b: int\n",
    "    c: int\n",
    "    d: int\n",
    "    \n",
    "    def as_function(self):\n",
    "        return partial(f, a=self.a, b=self.b, c=self.c, d=self.d)\n",
    "    \n",
    "    def pprint(self):\n",
    "        print(f'f(x)= {self.a}x^3 + {self.b}x^2 + {self.c}x + {self.d}')\n",
    "    \n",
    "\n",
    "def get_random_solution() -> Solution:\n",
    "    return Solution(\n",
    "        randint(LOWER_PARAM, UPPER_PARAM),\n",
    "        randint(LOWER_PARAM, UPPER_PARAM),\n",
    "        randint(LOWER_PARAM, UPPER_PARAM),\n",
    "        randint(LOWER_PARAM, UPPER_PARAM)\n",
    "    )\n",
    "\n",
    "def get_neighborhood_solutions(solution: Solution) -> List[Solution]:\n",
    "    neighborhood = []\n",
    "    for val in (-2, -1, 1, 2):\n",
    "        if LOWER_PARAM < solution.a < UPPER_PARAM:\n",
    "            neighborhood.append(\n",
    "                Solution(solution.a + val, solution.b, solution.c, solution.d)\n",
    "            )\n",
    "        if LOWER_PARAM < solution.b < UPPER_PARAM:\n",
    "            neighborhood.append(\n",
    "                Solution(solution.a, solution.b + val, solution.c, solution.d)\n",
    "            )\n",
    "        if LOWER_PARAM < solution.c < UPPER_PARAM:\n",
    "            neighborhood.append(\n",
    "                Solution(solution.a, solution.b, solution.c + val, solution.d)\n",
    "            )\n",
    "        if LOWER_PARAM < solution.d < UPPER_PARAM:\n",
    "            neighborhood.append(\n",
    "                Solution(solution.a, solution.b, solution.c, solution.d + val)\n",
    "            )\n",
    "    return neighborhood\n",
    "\n",
    "def hamming_distance(sol1: Solution, sol2: Solution) -> int:\n",
    "    return abs(sol1.a - sol2.a) + abs(sol1.b - sol2.b) + abs(sol1.c - sol2.c) + abs(sol1.d - sol2.d)  \n",
    "    "
   ]
  },
  {
   "cell_type": "code",
   "execution_count": 29,
   "id": "117d0cda",
   "metadata": {},
   "outputs": [],
   "source": [
    "def test_solution_class():\n",
    "    \n",
    "    test_sol = get_random_solution()\n",
    "    \n",
    "    for param in (test_sol.a, test_sol.b, test_sol.c, test_sol.d):    \n",
    "        assert LOWER_PARAM <= param <= UPPER_PARAM\n",
    "\n",
    "    test_neighborhood = get_neighborhood_solutions(test_sol)\n",
    "    assert len(test_neighborhood) <= 16\n",
    "\n",
    "    for neighbor in test_neighborhood:\n",
    "        assert(hamming_distance(test_sol, neighbor)) <= 2\n",
    "    return\n",
    "\n",
    "\n",
    "for _ in range(10000):\n",
    "    test_solution_class()\n"
   ]
  },
  {
   "cell_type": "code",
   "execution_count": 33,
   "id": "8571f56f",
   "metadata": {},
   "outputs": [
    {
     "name": "stdout",
     "output_type": "stream",
     "text": [
      "Finished Local Search Best\n",
      "-----\n",
      "Fitness = -0.0000\n",
      "Total Number of Fitness evaluations: 3520\n",
      "f(x)= 58x^3 + -2x^2 + 94x + -92\n",
      "Target Function:\n",
      "f(x)= 58x^3 + -2x^2 + 94x + -92\n"
     ]
    }
   ],
   "source": [
    "def local_search_best(target: callable, verbose=False):\n",
    "    \n",
    "    cur_sol = get_random_solution()\n",
    "    cur_fit = fitness(target, cur_sol.as_function())\n",
    "    \n",
    "    fitness_evals = 0\n",
    "        \n",
    "    while True:\n",
    "                \n",
    "        if verbose:\n",
    "            print(f\"Current best {cur_sol}, Fitness = {cur_fit:.4f}\")\n",
    "        \n",
    "        neighborhood = get_neighborhood_solutions(cur_sol)\n",
    "        if len(neighborhood) == 0:\n",
    "            break\n",
    "            \n",
    "        neighborhood.sort(key=lambda x: fitness(target, x.as_function()), reverse=True)\n",
    "        \n",
    "        fitness_evals += len(neighborhood)\n",
    "        \n",
    "        best_fit = fitness(target, neighborhood[0].as_function())\n",
    "        \n",
    "        if best_fit >= cur_fit:\n",
    "            cur_sol = neighborhood[0]\n",
    "            cur_fit = best_fit\n",
    "            continue\n",
    "        \n",
    "        else:\n",
    "            print(f\"Finished Local Search Best\\n-----\")\n",
    "            print(f\"Fitness = {cur_fit:.4f}\")\n",
    "            print(f\"Total Number of Fitness evaluations: {fitness_evals}\")\n",
    "            cur_sol.pprint()\n",
    "            return\n",
    "\n",
    "\n",
    "local_search_best(target)\n",
    "print_target_function()\n",
    "    "
   ]
  },
  {
   "cell_type": "code",
   "execution_count": 51,
   "id": "15bbf6f0",
   "metadata": {},
   "outputs": [
    {
     "ename": "KeyboardInterrupt",
     "evalue": "",
     "output_type": "error",
     "traceback": [
      "\u001b[0;31m---------------------------------------------------------------------------\u001b[0m",
      "\u001b[0;31mKeyboardInterrupt\u001b[0m                         Traceback (most recent call last)",
      "Input \u001b[0;32mIn [51]\u001b[0m, in \u001b[0;36m<cell line: 38>\u001b[0;34m()\u001b[0m\n\u001b[1;32m     34\u001b[0m     cur_sol\u001b[38;5;241m.\u001b[39mpprint()\n\u001b[1;32m     35\u001b[0m     \u001b[38;5;28;01mreturn\u001b[39;00m\n\u001b[0;32m---> 38\u001b[0m \u001b[43mlocal_search_first\u001b[49m\u001b[43m(\u001b[49m\u001b[43mtarget\u001b[49m\u001b[43m)\u001b[49m\n\u001b[1;32m     39\u001b[0m print_target_function()\n",
      "Input \u001b[0;32mIn [51]\u001b[0m, in \u001b[0;36mlocal_search_first\u001b[0;34m(target, verbose)\u001b[0m\n\u001b[1;32m     18\u001b[0m \u001b[38;5;28;01mfor\u001b[39;00m neighbor \u001b[38;5;129;01min\u001b[39;00m neighborhood:\n\u001b[1;32m     20\u001b[0m     improved \u001b[38;5;241m=\u001b[39m \u001b[38;5;28;01mFalse\u001b[39;00m\n\u001b[0;32m---> 21\u001b[0m     fit \u001b[38;5;241m=\u001b[39m \u001b[43mfitness\u001b[49m\u001b[43m(\u001b[49m\u001b[43mtarget\u001b[49m\u001b[43m,\u001b[49m\u001b[43m \u001b[49m\u001b[43mneighbor\u001b[49m\u001b[38;5;241;43m.\u001b[39;49m\u001b[43mas_function\u001b[49m\u001b[43m(\u001b[49m\u001b[43m)\u001b[49m\u001b[43m)\u001b[49m\n\u001b[1;32m     22\u001b[0m     fitness_evals \u001b[38;5;241m+\u001b[39m\u001b[38;5;241m=\u001b[39m \u001b[38;5;241m1\u001b[39m\n\u001b[1;32m     24\u001b[0m     \u001b[38;5;28;01mif\u001b[39;00m fit \u001b[38;5;241m>\u001b[39m\u001b[38;5;241m=\u001b[39m cur_fit:\n",
      "Input \u001b[0;32mIn [4]\u001b[0m, in \u001b[0;36mfitness\u001b[0;34m(target, candidate)\u001b[0m\n\u001b[1;32m     15\u001b[0m \u001b[38;5;28;01mdef\u001b[39;00m \u001b[38;5;21mfitness\u001b[39m(target: callable, candidate: callable):\n\u001b[0;32m---> 16\u001b[0m     \u001b[38;5;28;01mreturn\u001b[39;00m \u001b[38;5;241m-\u001b[39m\u001b[43mrmse\u001b[49m\u001b[43m(\u001b[49m\u001b[43mtarget\u001b[49m\u001b[38;5;241;43m=\u001b[39;49m\u001b[43mtarget\u001b[49m\u001b[43m,\u001b[49m\u001b[43m \u001b[49m\u001b[43mcandidate\u001b[49m\u001b[38;5;241;43m=\u001b[39;49m\u001b[43mcandidate\u001b[49m\u001b[43m)\u001b[49m\n",
      "\u001b[0;31mKeyboardInterrupt\u001b[0m: "
     ]
    }
   ],
   "source": [
    "def local_search_first(target: callable, verbose=False):\n",
    "    \n",
    "    cur_sol = get_random_solution()\n",
    "    cur_fit = fitness(target, cur_sol.as_function())\n",
    "    \n",
    "    fitness_evals = 0\n",
    "    improved = True\n",
    "        \n",
    "    while improved:\n",
    "                \n",
    "        if verbose:\n",
    "            print(f\"Current best {cur_sol}, Fitness = {cur_fit:.4f}\")\n",
    "        \n",
    "        neighborhood = get_neighborhood_solutions(cur_sol)\n",
    "        if len(neighborhood) == 0:\n",
    "            break\n",
    "        \n",
    "        for neighbor in neighborhood:\n",
    "            \n",
    "            improved = False\n",
    "            fit = fitness(target, neighbor.as_function())\n",
    "            fitness_evals += 1\n",
    "            \n",
    "            if fit >= cur_fit:\n",
    "                cur_sol = neighbor\n",
    "                cur_fit = fit\n",
    "                improved = True\n",
    "                break\n",
    "            \n",
    "        \n",
    "    print(f\"Finished Local Search First\\n-----\")\n",
    "    print(f\"Fitness = {cur_fit:.4f}\")\n",
    "    print(f\"Total Number of Fitness evaluations: {fitness_evals}\")\n",
    "    cur_sol.pprint()\n",
    "    return\n",
    "\n",
    "\n",
    "local_search_first(target)\n",
    "print_target_function()"
   ]
  },
  {
   "cell_type": "code",
   "execution_count": 82,
   "id": "21146184",
   "metadata": {},
   "outputs": [
    {
     "name": "stdout",
     "output_type": "stream",
     "text": [
      "Finished Simulated Annealing\n",
      "-----\n",
      "Fitness = -1.0000\n",
      "Total Number of Fitness evaluations: 2757\n",
      "f(x)= 58x^3 + -2x^2 + 94x + -93\n",
      "Target Function:\n",
      "f(x)= 58x^3 + -2x^2 + 94x + -92\n"
     ]
    }
   ],
   "source": [
    "def SA(target: callable, T0:int=1000000, TN:int=1, verbose=False):\n",
    "    \n",
    "    T = T0\n",
    "    \n",
    "    cur_sol = get_random_solution()\n",
    "    cur_fit = fitness(target, cur_sol.as_function())\n",
    "    \n",
    "    fitness_evals = 0\n",
    "    \n",
    "    def cooling(T: float, alpha: float) -> float:\n",
    "        return alpha * T\n",
    "    \n",
    "    \n",
    "    while T > TN:\n",
    "        \n",
    "        T = cooling(T, 0.995)\n",
    "        \n",
    "        if verbose:\n",
    "            print(f\"Temperature: {T}\\nCurrent best {cur_sol}, Fitness = {cur_fit:.4f}\")\n",
    "        \n",
    "        neighborhood = get_neighborhood_solutions(cur_sol)\n",
    "        \n",
    "        if len(neighborhood) == 0:\n",
    "            break\n",
    "            \n",
    "        neighbor = choice(neighborhood)\n",
    "            \n",
    "        temp_fit = fitness(target, neighbor.as_function())\n",
    "        fitness_evals += 1\n",
    "\n",
    "        if temp_fit >= cur_fit:\n",
    "            cur_sol = neighbor\n",
    "            cur_fit = temp_fit\n",
    "            continue\n",
    "\n",
    "        else:\n",
    "            \n",
    "            fit_distance = abs(cur_fit - temp_fit)\n",
    "            p_accept = exp(-(fit_distance / T))\n",
    "            \n",
    "            if verbose:\n",
    "                print(f\"Acceptance P: {p_accept}\")\n",
    "\n",
    "            if random() < p_accept:\n",
    "                cur_sol = neighbor\n",
    "                cur_fit = temp_fit\n",
    "\n",
    "    print(f\"Finished Simulated Annealing\\n-----\")\n",
    "    print(f\"Fitness = {cur_fit:.4f}\")\n",
    "    print(f\"Total Number of Fitness evaluations: {fitness_evals}\")\n",
    "    cur_sol.pprint()\n",
    "    return\n",
    "        \n",
    "\n",
    "SA(target, verbose=False)\n",
    "print_target_function()"
   ]
  }
 ],
 "metadata": {
  "kernelspec": {
   "display_name": "Python 3 (ipykernel)",
   "language": "python",
   "name": "python3"
  },
  "language_info": {
   "codemirror_mode": {
    "name": "ipython",
    "version": 3
   },
   "file_extension": ".py",
   "mimetype": "text/x-python",
   "name": "python",
   "nbconvert_exporter": "python",
   "pygments_lexer": "ipython3",
   "version": "3.10.4"
  }
 },
 "nbformat": 4,
 "nbformat_minor": 5
}
